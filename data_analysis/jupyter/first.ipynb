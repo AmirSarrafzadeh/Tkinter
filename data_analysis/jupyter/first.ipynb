{
 "cells": [
  {
   "cell_type": "code",
   "execution_count": 3,
   "id": "a51f8136-d08a-4a14-997e-e9df60807e92",
   "metadata": {},
   "outputs": [],
   "source": [
    "import pandas as pd\n",
    "import numpy as np\n",
    "import os\n",
    "from collections import Counter"
   ]
  },
  {
   "cell_type": "code",
   "execution_count": 218,
   "id": "1bfb0e3a-cb81-48de-8d32-98f5596b9b35",
   "metadata": {},
   "outputs": [],
   "source": [
    "column_names = ['0.0_1.0', '0.1_0.9', '0.2_0.8', '0.3_0.7', '0.4_0.6']\n",
    "column_names.append(\"total_columns\")"
   ]
  },
  {
   "cell_type": "code",
   "execution_count": 232,
   "id": "02d207f5-06c8-46cd-b8d4-624ef1329c0f",
   "metadata": {},
   "outputs": [],
   "source": [
    "r_e_dict = {}\n",
    "positive_negative = {}\n",
    "for item in os.listdir():\n",
    "    if item.startswith('abstract'):\n",
    "        abs_df = pd.read_excel(item)\n",
    "        r_e_list = []\n",
    "        for i in abs_df.columns:\n",
    "            if i.startswith('r.e'):\n",
    "                r_e_list.append(abs_df[f'{i}'].sum())\n",
    "            if i.startswith('Color'):\n",
    "                positive = sum(abs_df['Color'] > 0)\n",
    "                negative = len(abs_df) - positive\n",
    "        r_e_list.append(sum(r_e_list)) \n",
    "        key_name = item.split(\".\")[0] + '_' + abs_df['Date'].iloc[0]\n",
    "        r_e_dict[key_name] = r_e_list\n",
    "        positive_negative[abs_df['Date'].iloc[0]] = [round(positive/(len(abs_df)), 3), round(negative/(len(abs_df)), 3)]"
   ]
  },
  {
   "cell_type": "code",
   "execution_count": 241,
   "id": "17dba7cb-b287-49f6-9f2f-adb75df751cb",
   "metadata": {},
   "outputs": [
    {
     "data": {
      "text/plain": [
       "{'2016-06-03': [0.421, 0.579],\n",
       " '2016-06-06': [0.412, 0.588],\n",
       " '2016-06-07': [0.391, 0.609],\n",
       " '2016-06-08': [0.467, 0.533],\n",
       " '2016-06-09': [0.217, 0.783],\n",
       " '2016-06-10': [0.217, 0.783]}"
      ]
     },
     "execution_count": 241,
     "metadata": {},
     "output_type": "execute_result"
    }
   ],
   "source": [
    "positive_negative"
   ]
  },
  {
   "cell_type": "code",
   "execution_count": 234,
   "id": "072d576b-3a5b-40a7-a0ea-7b24c5ed1d47",
   "metadata": {},
   "outputs": [],
   "source": [
    "pivot_dict = {}\n",
    "after_pivot = {}\n",
    "for item in os.listdir():\n",
    "    if item.startswith('pivot_'):\n",
    "        piv_df = pd.read_excel(item)\n",
    "        pivot_list = []\n",
    "        for i in range(len(piv_df)-1):\n",
    "            if piv_df['total'].iloc[i] == piv_df['total'].iloc[i+1]:\n",
    "                pivot_list.append(piv_df['total'].iloc[i])\n",
    "        \n",
    "        counts = Counter(pivot_list)\n",
    "        for number, count in counts.items():\n",
    "            if count > 1:\n",
    "                pivot_list.append(number)\n",
    "        pivot_list.sort(reverse=True)\n",
    "        max_pivot = max(pivot_list)\n",
    "        counts = Counter(pivot_list)\n",
    "\n",
    "        result = []\n",
    "        temp_after_pivot = []\n",
    "        for number, count in counts.items():\n",
    "            if count > 1:\n",
    "                result.append(f\"{number}_\" + \"_\".join([str(number)] * (count - 1)))\n",
    "            else:\n",
    "                result.append(str(number)) \n",
    "        temp_after_pivot.append(piv_df[piv_df['minimum_area'] == piv_df['minimum_area'].min()]['time'].values[0])\n",
    "        temp_after_pivot.append(round(piv_df['minimum_area'].min(), 4))\n",
    "        temp_after_pivot.append(max_pivot)\n",
    "        temp_after_pivot.append(sum(pivot_list))\n",
    "        after_pivot[item] = temp_after_pivot\n",
    "        pivot_dict[item] = result"
   ]
  },
  {
   "cell_type": "code",
   "execution_count": 240,
   "id": "518f2c29-5c1c-4919-b465-0f33c5bec360",
   "metadata": {},
   "outputs": [
    {
     "data": {
      "text/plain": [
       "'2016-06-10'"
      ]
     },
     "execution_count": 240,
     "metadata": {},
     "output_type": "execute_result"
    }
   ],
   "source": [
    "piv_df['date'].iloc[0]"
   ]
  },
  {
   "cell_type": "code",
   "execution_count": 154,
   "id": "442f94e8-1e7c-4256-a921-ba1339a67757",
   "metadata": {},
   "outputs": [],
   "source": [
    "max_len_piv_list = []\n",
    "for item in pivot_dict.values():\n",
    "    max_len_piv_list.append(len(item))\n",
    "\n",
    "maximum_value = max(max_len_piv_list)"
   ]
  },
  {
   "cell_type": "code",
   "execution_count": 220,
   "id": "11bcb612-0ae3-40a4-9e14-8cb37c6bdfa8",
   "metadata": {},
   "outputs": [],
   "source": [
    "for i in range(maximum_value):\n",
    "    column_names.append(f\"pivot_{i+1}\")"
   ]
  },
  {
   "cell_type": "code",
   "execution_count": 221,
   "id": "bb75f7bb-4657-4b5d-90bb-4018cd29ebcf",
   "metadata": {},
   "outputs": [],
   "source": []
  },
  {
   "cell_type": "code",
   "execution_count": 222,
   "id": "b8dfb120-ce7b-4a65-aeb8-fd46f860c8f5",
   "metadata": {},
   "outputs": [],
   "source": [
    "column_names.append(\"minimu def area\")"
   ]
  },
  {
   "cell_type": "code",
   "execution_count": 223,
   "id": "482f49f9-2e70-4946-a718-0d4db4ac1cd7",
   "metadata": {},
   "outputs": [],
   "source": []
  },
  {
   "cell_type": "code",
   "execution_count": 225,
   "id": "5ee4e053-38d5-4af7-a1fe-9ea4865d8265",
   "metadata": {},
   "outputs": [],
   "source": [
    "column_names.insert(0, \"date\")"
   ]
  },
  {
   "cell_type": "code",
   "execution_count": 227,
   "id": "99f500b9-f410-4d02-9245-313e6d7856dd",
   "metadata": {},
   "outputs": [],
   "source": [
    "column_names.insert(0, \"row_id\")"
   ]
  },
  {
   "cell_type": "code",
   "execution_count": 155,
   "id": "8bbeecef-d279-41ff-8e30-2f1dca763a71",
   "metadata": {},
   "outputs": [],
   "source": [
    "final_pivot_dict = {}\n",
    "for i, j in pivot_dict.items():\n",
    "    pippo = j\n",
    "    for _ in range(maximum_value - len(j)):\n",
    "        pippo.extend(\".\")\n",
    "    final_pivot_dict[i] = pippo"
   ]
  },
  {
   "cell_type": "code",
   "execution_count": 156,
   "id": "cbe1d3f1-ee49-4242-9784-59323808771f",
   "metadata": {},
   "outputs": [
    {
     "data": {
      "text/plain": [
       "{'pivot_1.xlsx': ['24', '.', '.', '.', '.', '.'],\n",
       " 'pivot_2.xlsx': ['12', '10_10_10', '7_7_7', '.', '.', '.'],\n",
       " 'pivot_3.xlsx': ['29', '27', '18', '6', '1', '0'],\n",
       " 'pivot_4.xlsx': ['35', '32', '1', '0', '.', '.'],\n",
       " 'pivot_5.xlsx': ['12', '7_7_7', '5', '4', '1', '.'],\n",
       " 'pivot_6.xlsx': ['22', '21_21_21_21_21', '0_0_0', '.', '.', '.']}"
      ]
     },
     "execution_count": 156,
     "metadata": {},
     "output_type": "execute_result"
    }
   ],
   "source": [
    "final_pivot_dict"
   ]
  },
  {
   "cell_type": "code",
   "execution_count": 188,
   "id": "908c80ee-a8a5-4b03-ab8d-13e47b37bff4",
   "metadata": {},
   "outputs": [
    {
     "data": {
      "text/plain": [
       "{'pivot_1.xlsx': ['08:30:00', 0.0318, 24, 24],\n",
       " 'pivot_2.xlsx': ['04:30:00', 0.0172, 12, 63],\n",
       " 'pivot_3.xlsx': ['13:30:00', 0.0235, 29, 81],\n",
       " 'pivot_4.xlsx': ['10:30:00', 0.0699, 35, 68],\n",
       " 'pivot_5.xlsx': ['14:30:00', 0.0542, 12, 43],\n",
       " 'pivot_6.xlsx': ['23:30:00', 0.0576, 22, 127]}"
      ]
     },
     "execution_count": 188,
     "metadata": {},
     "output_type": "execute_result"
    }
   ],
   "source": [
    "after_pivot"
   ]
  },
  {
   "cell_type": "code",
   "execution_count": 207,
   "id": "a64a4d49-396c-4b17-ba2a-1aa48c1873a6",
   "metadata": {},
   "outputs": [],
   "source": [
    "final_list = {}\n",
    "for i in range(len(r_e_dict)):\n",
    "    key_name = (list(positive_negative.keys())[i])\n",
    "    pippo_list = [key_name]\n",
    "    pippo_list.extend((list(r_e_dict.values())[i]))\n",
    "    pippo_list.extend((list(final_pivot_dict.values())[i]))\n",
    "    pippo_list.extend((list(after_pivot.values())[i]))\n",
    "    pippo_list.extend((list(positive_negative.values())[i]))\n",
    "    \n",
    "    final_list[f\"row_{i+1}\"] = pippo_list"
   ]
  },
  {
   "cell_type": "code",
   "execution_count": null,
   "id": "db0772da-f83c-4d8c-918a-6d559f383929",
   "metadata": {},
   "outputs": [],
   "source": []
  },
  {
   "cell_type": "code",
   "execution_count": 230,
   "id": "b08b2689-17d5-45af-b2b8-2f78a47a553f",
   "metadata": {},
   "outputs": [
    {
     "name": "stdout",
     "output_type": "stream",
     "text": [
      "         date  0.0_1.0  0.1_0.9  0.2_0.8  0.3_0.7  0.4_0.6  total_columns  \\\n",
      "0  2016-06-03     -6.0    -29.0    -18.0    -14.0      5.0          -62.0   \n",
      "1  2016-06-06     -3.0     -2.0     -2.0      0.0      0.0           -7.0   \n",
      "2  2016-06-07     17.0     19.0     25.0     26.0      9.0           96.0   \n",
      "3  2016-06-08     14.0      8.0     14.0     -5.0      1.0           32.0   \n",
      "4  2016-06-09    -13.0    -20.0    -13.0     -4.0      0.0          -50.0   \n",
      "5  2016-06-10    -44.0    -20.0      7.0      0.0     -1.0          -58.0   \n",
      "\n",
      "  pivot_1         pivot_2 pivot_3 pivot_4 pivot_5 pivot_6 minidef pivote  \\\n",
      "0      24               .       .       .       .       .       08:30:00   \n",
      "1      12        10_10_10   7_7_7       .       .       .       04:30:00   \n",
      "2      29              27      18       6       1       0       13:30:00   \n",
      "3      35              32       1       0       .       .       10:30:00   \n",
      "4      12           7_7_7       5       4       1       .       14:30:00   \n",
      "5      22  21_21_21_21_21   0_0_0       .       .       .       23:30:00   \n",
      "\n",
      "   minimu def area  max pivot  total pivot  positive  negative  \n",
      "0           0.0318         24           24     0.421     0.579  \n",
      "1           0.0172         12           63     0.412     0.588  \n",
      "2           0.0235         29           81     0.391     0.609  \n",
      "3           0.0699         35           68     0.467     0.533  \n",
      "4           0.0542         12           43     0.217     0.783  \n",
      "5           0.0576         22          127     0.217     0.783  \n"
     ]
    }
   ],
   "source": [
    "df = pd.DataFrame.from_dict(final_list, orient='index')\n",
    "\n",
    "# Optionally, reset the index and assign proper column names\n",
    "df.reset_index(inplace=True)\n",
    "# df.columns = ['row_id', 'date', 'val1', 'val2', 'val3', 'val4', 'val5', 'val6', 'field_1', 'field_2', 'field_3', \n",
    "#               'field_4', 'field_5', 'field_6', 'time', 'metric_1', 'metric_2', 'metric_3', 'metric_4', 'metric_5']\n",
    "\n",
    "\n",
    "df.columns = column_names\n",
    "\n",
    "df = df[column_names[1:]]\n",
    "print(df)"
   ]
  },
  {
   "cell_type": "code",
   "execution_count": null,
   "id": "0e830618-5ea9-4c0b-b9a3-d91a12d38bae",
   "metadata": {},
   "outputs": [],
   "source": []
  }
 ],
 "metadata": {
  "kernelspec": {
   "display_name": "Python 3 (ipykernel)",
   "language": "python",
   "name": "python3"
  },
  "language_info": {
   "codemirror_mode": {
    "name": "ipython",
    "version": 3
   },
   "file_extension": ".py",
   "mimetype": "text/x-python",
   "name": "python",
   "nbconvert_exporter": "python",
   "pygments_lexer": "ipython3",
   "version": "3.11.8"
  }
 },
 "nbformat": 4,
 "nbformat_minor": 5
}
